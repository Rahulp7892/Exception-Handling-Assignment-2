{
 "cells": [
  {
   "cell_type": "code",
   "execution_count": 1,
   "id": "715894c4-6c9a-49de-b6f1-897645e59f6b",
   "metadata": {},
   "outputs": [],
   "source": [
    "#Q.1 Explain why we have to use the exception class while creating a custom exception."
   ]
  },
  {
   "cell_type": "code",
   "execution_count": 2,
   "id": "63f2ea63-2e09-40ef-82a5-f85e131959b1",
   "metadata": {},
   "outputs": [],
   "source": [
    "#Ans"
   ]
  },
  {
   "cell_type": "code",
   "execution_count": 3,
   "id": "be7a53c1-f24f-4b70-9f59-782e1e591509",
   "metadata": {},
   "outputs": [],
   "source": [
    "class ValidationError(Exception):\n",
    "    \"\"\"Base class for validation errors.\"\"\"\n",
    "    def __init__(self, message, details=None):\n",
    "        super().__init__(message)\n",
    "        self.details = details"
   ]
  },
  {
   "cell_type": "code",
   "execution_count": 6,
   "id": "49974c97-e309-4f6d-a8d3-19b544972fc5",
   "metadata": {},
   "outputs": [
    {
     "name": "stdin",
     "output_type": "stream",
     "text": [
      "Enter your age:  80\n"
     ]
    },
    {
     "name": "stdout",
     "output_type": "stream",
     "text": [
      "Age is valid.\n"
     ]
    }
   ],
   "source": [
    "def validate_age(age):\n",
    "    if age < 0 or age > 120:\n",
    "        raise ValidationError(\"Invalid age\", details={\"age\": age})\n",
    "\n",
    "def process_age(age):\n",
    "    try:\n",
    "        validate_age(age)\n",
    "        print(\"Age is valid.\")\n",
    "    except ValidationError as e:\n",
    "        print(f\"Validation Error: {e}\")\n",
    "        if e.details:\n",
    "            print(f\"Details: {e.details}\")\n",
    "\n",
    "try:\n",
    "    age = int(input(\"Enter your age: \"))\n",
    "    process_age(age)\n",
    "except ValueError:\n",
    "    print(\"Error: Please enter a valid integer.\")"
   ]
  },
  {
   "cell_type": "code",
   "execution_count": 7,
   "id": "9aedc7f4-c0ef-4e63-af4d-9cc46fff73b3",
   "metadata": {},
   "outputs": [],
   "source": [
    "class ValidationError(Exception):\n",
    "    \"\"\"Base class for validation errors.\"\"\"\n",
    "    def __init__(self, message, details=None):\n",
    "        super().__init__(message)\n",
    "        self.details = details"
   ]
  },
  {
   "cell_type": "code",
   "execution_count": 8,
   "id": "999cc50d-5376-42d7-af7b-355d055ee313",
   "metadata": {},
   "outputs": [
    {
     "name": "stdin",
     "output_type": "stream",
     "text": [
      "Enter your age:  \"Radha\"\n"
     ]
    },
    {
     "name": "stdout",
     "output_type": "stream",
     "text": [
      "Error: Please enter a valid integer.\n"
     ]
    }
   ],
   "source": [
    "def validate_age(age):\n",
    "    if age < 0 or age > 120:\n",
    "        raise ValidationError(\"Invalid age\", details={\"age\": age})\n",
    "\n",
    "def process_age(age):\n",
    "    try:\n",
    "        validate_age(age)\n",
    "        print(\"Age is valid.\")\n",
    "    except ValidationError as e:\n",
    "        print(f\"Validation Error: {e}\")\n",
    "        if e.details:\n",
    "            print(f\"Details: {e.details}\")\n",
    "\n",
    "try:\n",
    "    age = int(input(\"Enter your age: \"))\n",
    "    process_age(age)\n",
    "except ValueError:\n",
    "    print(\"Error: Please enter a valid integer.\")"
   ]
  },
  {
   "cell_type": "code",
   "execution_count": 1,
   "id": "87b0b2b6-f9ed-4d7c-9c14-f5710c6c3213",
   "metadata": {},
   "outputs": [],
   "source": [
    "#Q.2 Write a python program to print python exception hierarchy."
   ]
  },
  {
   "cell_type": "code",
   "execution_count": 2,
   "id": "32ae2818-ed7b-42c6-ab2d-92dfe59f8f49",
   "metadata": {},
   "outputs": [],
   "source": [
    "#Ans"
   ]
  },
  {
   "cell_type": "code",
   "execution_count": 5,
   "id": "d7169d36-a175-4689-aa62-8977cdf18966",
   "metadata": {},
   "outputs": [
    {
     "name": "stdout",
     "output_type": "stream",
     "text": [
      "Python Exception Hierarchy:\n",
      "Exception\n",
      "  BaseException\n",
      "    object\n"
     ]
    }
   ],
   "source": [
    "import builtins\n",
    "import inspect\n",
    "\n",
    "def print_exception_hierarchy(cls, level=0):\n",
    "    print('  ' * level + cls.__name__)\n",
    "    \n",
    "    for base in cls.__bases__:\n",
    "        print_exception_hierarchy(base, level + 1)\n",
    "\n",
    "def main():\n",
    "    \n",
    "    print(\"Python Exception Hierarchy:\")\n",
    "    print_exception_hierarchy(builtins.Exception)\n",
    "\n",
    "if __name__ == \"__main__\":\n",
    "    main()"
   ]
  },
  {
   "cell_type": "code",
   "execution_count": 3,
   "id": "83c662ae-0cd5-49cd-8da4-c9302ba22162",
   "metadata": {},
   "outputs": [],
   "source": [
    "#Q.3 What errors are defined in the arithmetic Error class? Explain any two with an example."
   ]
  },
  {
   "cell_type": "code",
   "execution_count": 4,
   "id": "73180086-4c46-4bd9-99fb-233bea1c8d64",
   "metadata": {},
   "outputs": [
    {
     "name": "stdout",
     "output_type": "stream",
     "text": [
      "Caught an exception: division by zero\n"
     ]
    }
   ],
   "source": [
    "try:\n",
    "    result = 10 / 0\n",
    "except ZeroDivisionError as e:\n",
    "    print(\"Caught an exception:\", e)"
   ]
  },
  {
   "cell_type": "code",
   "execution_count": 5,
   "id": "7d8d8ff5-bfd1-47d3-b001-0b45619b5906",
   "metadata": {},
   "outputs": [
    {
     "name": "stdout",
     "output_type": "stream",
     "text": [
      "Caught an exception: math range error\n"
     ]
    }
   ],
   "source": [
    "import math\n",
    "\n",
    "try:\n",
    "    result = math.exp(1000)  \n",
    "except OverflowError as e:\n",
    "    print(\"Caught an exception:\", e)"
   ]
  },
  {
   "cell_type": "code",
   "execution_count": 1,
   "id": "8737b85f-f384-4b45-ae69-482cea4b3f1c",
   "metadata": {},
   "outputs": [],
   "source": [
    "#Q.4 Why lookup error class is used? Explain with an example key error and index error."
   ]
  },
  {
   "cell_type": "code",
   "execution_count": 2,
   "id": "45233a0f-3bc5-432d-a226-7a9d8dfc2373",
   "metadata": {},
   "outputs": [
    {
     "name": "stdout",
     "output_type": "stream",
     "text": [
      "KeyError: The key 'orange' was not found in the dictionary.\n"
     ]
    }
   ],
   "source": [
    "my_dict = {\"apple\": 1, \"banana\": 2, \"cherry\": 3}\n",
    "\n",
    "try:\n",
    "    value = my_dict[\"orange\"]\n",
    "except KeyError as e:\n",
    "    print(f\"KeyError: The key '{e.args[0]}' was not found in the dictionary.\")"
   ]
  },
  {
   "cell_type": "code",
   "execution_count": 3,
   "id": "59936623-9f8c-466c-b505-457d59aa9acd",
   "metadata": {},
   "outputs": [
    {
     "name": "stdout",
     "output_type": "stream",
     "text": [
      "IndexError: Index list index out of range is out of range for the list.\n"
     ]
    }
   ],
   "source": [
    "my_list = [10, 20, 30]\n",
    "\n",
    "try:\n",
    "    item = my_list[5]\n",
    "except IndexError as e:\n",
    "    print(f\"IndexError: Index {e.args[0]} is out of range for the list.\")"
   ]
  },
  {
   "cell_type": "code",
   "execution_count": 5,
   "id": "68f62e28-4da9-4b65-8b4d-7ecbf4b075cc",
   "metadata": {},
   "outputs": [
    {
     "name": "stdout",
     "output_type": "stream",
     "text": [
      "LookupError: 'orange'\n"
     ]
    }
   ],
   "source": [
    "my_dict = {\"apple\": 1, \"banana\": 2}\n",
    "my_list = [10, 20, 30]\n",
    "\n",
    "def lookup_values(key, index):\n",
    "    try:\n",
    "        value_from_dict = my_dict[key]\n",
    "        value_from_list = my_list[index]\n",
    "        return value_from_dict, value_from_list\n",
    "    except LookupError as e:\n",
    "        print(f\"LookupError: {e}\")\n",
    "\n",
    "lookup_values(\"orange\", 5)"
   ]
  },
  {
   "cell_type": "code",
   "execution_count": 6,
   "id": "27cbf324-aee2-4f52-868f-ae5d70e7859a",
   "metadata": {},
   "outputs": [],
   "source": [
    "#Q5. Explain import error. What is Module Not Found Error?"
   ]
  },
  {
   "cell_type": "code",
   "execution_count": 7,
   "id": "b6e778ec-51ad-48fe-bbcf-ef5483d1a9af",
   "metadata": {},
   "outputs": [
    {
     "name": "stdout",
     "output_type": "stream",
     "text": [
      "ImportError: No module named 'non_existent_module'\n"
     ]
    }
   ],
   "source": [
    "try:\n",
    "    import non_existent_module\n",
    "except ImportError as e:\n",
    "    print(f\"ImportError: {e}\")"
   ]
  },
  {
   "cell_type": "code",
   "execution_count": 8,
   "id": "45b1b908-7164-4152-b91b-e91cf7344f52",
   "metadata": {},
   "outputs": [
    {
     "name": "stdout",
     "output_type": "stream",
     "text": [
      "ModuleNotFoundError: No module named 'non_existent_module'\n"
     ]
    }
   ],
   "source": [
    "try:\n",
    "    import non_existent_module\n",
    "except ModuleNotFoundError as e:\n",
    "    print(f\"ModuleNotFoundError: {e}\")"
   ]
  },
  {
   "cell_type": "code",
   "execution_count": 9,
   "id": "fa39a701-7a51-429c-a755-b59bc632e86f",
   "metadata": {},
   "outputs": [
    {
     "name": "stdout",
     "output_type": "stream",
     "text": [
      "Module not found. Please make sure it is installed.\n"
     ]
    }
   ],
   "source": [
    "try:\n",
    "    import some_module\n",
    "except ModuleNotFoundError:\n",
    "    print(\"Module not found. Please make sure it is installed.\")\n",
    "except ImportError:\n",
    "    print(\"An import error occurred.\")"
   ]
  },
  {
   "cell_type": "code",
   "execution_count": 10,
   "id": "e715ec07-eb0e-43db-9d7c-e9f51eb130ec",
   "metadata": {},
   "outputs": [],
   "source": [
    "#Q6. List down some best practices for exception handling in python."
   ]
  },
  {
   "cell_type": "code",
   "execution_count": 11,
   "id": "2a384182-25b7-4b7f-8f18-d2e8d38b2940",
   "metadata": {},
   "outputs": [
    {
     "name": "stdout",
     "output_type": "stream",
     "text": [
      "You can't divide by zero!\n"
     ]
    }
   ],
   "source": [
    "try:\n",
    "    result = 10 / 0\n",
    "except ZeroDivisionError:\n",
    "    print(\"You can't divide by zero!\")"
   ]
  },
  {
   "cell_type": "code",
   "execution_count": 12,
   "id": "3d21d547-7e0a-4a7c-8712-2d12b77da293",
   "metadata": {},
   "outputs": [
    {
     "name": "stdin",
     "output_type": "stream",
     "text": [
      "Enter a number:  4\n"
     ]
    }
   ],
   "source": [
    "try:\n",
    "    value = int(input(\"Enter a number: \"))\n",
    "    result = 10 / value\n",
    "except ValueError:\n",
    "    print(\"Invalid input! Please enter a valid number.\")\n",
    "except ZeroDivisionError:\n",
    "    print(\"You can't divide by zero!\")"
   ]
  },
  {
   "cell_type": "code",
   "execution_count": 13,
   "id": "10238526-653f-425d-a28b-684623395912",
   "metadata": {},
   "outputs": [
    {
     "ename": "IndentationError",
     "evalue": "expected an indented block after 'try' statement on line 1 (3703952960.py, line 3)",
     "output_type": "error",
     "traceback": [
      "\u001b[0;36m  Cell \u001b[0;32mIn[13], line 3\u001b[0;36m\u001b[0m\n\u001b[0;31m    except Exception as e:\u001b[0m\n\u001b[0m    ^\u001b[0m\n\u001b[0;31mIndentationError\u001b[0m\u001b[0;31m:\u001b[0m expected an indented block after 'try' statement on line 1\n"
     ]
    }
   ],
   "source": [
    "try:\n",
    "except Exception as e:\n",
    "    print(f\"An error occurred: {e}\")"
   ]
  },
  {
   "cell_type": "code",
   "execution_count": 14,
   "id": "cbd77771-7f92-48ca-b270-a85e74480939",
   "metadata": {},
   "outputs": [
    {
     "name": "stdout",
     "output_type": "stream",
     "text": [
      "Result is 5.0\n"
     ]
    }
   ],
   "source": [
    "try:\n",
    "    result = 10 / 2\n",
    "except ZeroDivisionError:\n",
    "    print(\"You can't divide by zero!\")\n",
    "else:\n",
    "    print(f\"Result is {result}\")"
   ]
  },
  {
   "cell_type": "code",
   "execution_count": 15,
   "id": "55feeeda-89de-4709-a221-55551a182a4b",
   "metadata": {},
   "outputs": [
    {
     "name": "stdout",
     "output_type": "stream",
     "text": [
      "An error occurred while reading the file.\n"
     ]
    },
    {
     "ename": "NameError",
     "evalue": "name 'file' is not defined",
     "output_type": "error",
     "traceback": [
      "\u001b[0;31m---------------------------------------------------------------------------\u001b[0m",
      "\u001b[0;31mNameError\u001b[0m                                 Traceback (most recent call last)",
      "Cell \u001b[0;32mIn[15], line 7\u001b[0m\n\u001b[1;32m      5\u001b[0m     \u001b[38;5;28mprint\u001b[39m(\u001b[38;5;124m\"\u001b[39m\u001b[38;5;124mAn error occurred while reading the file.\u001b[39m\u001b[38;5;124m\"\u001b[39m)\n\u001b[1;32m      6\u001b[0m \u001b[38;5;28;01mfinally\u001b[39;00m:\n\u001b[0;32m----> 7\u001b[0m     \u001b[43mfile\u001b[49m\u001b[38;5;241m.\u001b[39mclose()\n",
      "\u001b[0;31mNameError\u001b[0m: name 'file' is not defined"
     ]
    }
   ],
   "source": [
    "try:\n",
    "    file = open(\"example.txt\", \"r\")\n",
    "    data = file.read()\n",
    "except IOError:\n",
    "    print(\"An error occurred while reading the file.\")\n",
    "finally:\n",
    "    file.close()"
   ]
  },
  {
   "cell_type": "code",
   "execution_count": 16,
   "id": "a9865fb0-40c6-44c1-ab6e-bc51c21cf0f3",
   "metadata": {},
   "outputs": [
    {
     "ename": "IndentationError",
     "evalue": "expected an indented block after 'try' statement on line 1 (2631058095.py, line 3)",
     "output_type": "error",
     "traceback": [
      "\u001b[0;36m  Cell \u001b[0;32mIn[16], line 3\u001b[0;36m\u001b[0m\n\u001b[0;31m    except ValueError as e:\u001b[0m\n\u001b[0m    ^\u001b[0m\n\u001b[0;31mIndentationError\u001b[0m\u001b[0;31m:\u001b[0m expected an indented block after 'try' statement on line 1\n"
     ]
    }
   ],
   "source": [
    "try:\n",
    "    # Code that may raise an exception\n",
    "except ValueError as e:\n",
    "    print(\"Handling ValueError:\", e)\n",
    "    raise  # Re-raises the caught exception"
   ]
  },
  {
   "cell_type": "code",
   "execution_count": 17,
   "id": "1d6c3054-1962-4963-aa6a-0d5e0460d656",
   "metadata": {},
   "outputs": [
    {
     "ename": "IndentationError",
     "evalue": "expected an indented block after 'try' statement on line 5 (4186474883.py, line 7)",
     "output_type": "error",
     "traceback": [
      "\u001b[0;36m  Cell \u001b[0;32mIn[17], line 7\u001b[0;36m\u001b[0m\n\u001b[0;31m    except ValueError as e:\u001b[0m\n\u001b[0m    ^\u001b[0m\n\u001b[0;31mIndentationError\u001b[0m\u001b[0;31m:\u001b[0m expected an indented block after 'try' statement on line 5\n"
     ]
    }
   ],
   "source": [
    "import logging\n",
    "\n",
    "logging.basicConfig(level=logging.ERROR, filename='app.log')\n",
    "\n",
    "try:\n",
    "    # Code that may raise an exception\n",
    "except ValueError as e:\n",
    "    logging.error(\"A ValueError occurred: %s\", e)"
   ]
  },
  {
   "cell_type": "code",
   "execution_count": 18,
   "id": "003d175d-1c26-4595-bad4-d5e325859704",
   "metadata": {},
   "outputs": [
    {
     "name": "stdout",
     "output_type": "stream",
     "text": [
      "CustomError caught: Something went wrong!\n"
     ]
    }
   ],
   "source": [
    "class CustomError(Exception):\n",
    "    pass\n",
    "\n",
    "try:\n",
    "    raise CustomError(\"Something went wrong!\")\n",
    "except CustomError as e:\n",
    "    print(f\"CustomError caught: {e}\")"
   ]
  },
  {
   "cell_type": "code",
   "execution_count": 19,
   "id": "311da494-9037-4603-8628-df6a0b0ca222",
   "metadata": {},
   "outputs": [],
   "source": [
    "try:\n",
    "    item = my_list[0]\n",
    "except IndexError:\n",
    "    item = None"
   ]
  },
  {
   "cell_type": "code",
   "execution_count": 20,
   "id": "843f34f6-bd79-4909-8559-63b9e9b875cb",
   "metadata": {},
   "outputs": [],
   "source": [
    "if my_list:\n",
    "    item = my_list[0]\n",
    "else:\n",
    "    item = None"
   ]
  },
  {
   "cell_type": "code",
   "execution_count": 22,
   "id": "cde77623-2e68-475f-a524-36cea9520d38",
   "metadata": {},
   "outputs": [],
   "source": [
    "def divide(a, b):\n",
    "    \"\"\"\n",
    "    Divide two numbers.\n",
    "\n",
    "    Args:\n",
    "        a (float): The numerator.\n",
    "        b (float): The denominator.\n",
    "\n",
    "    Raises:\n",
    "        ZeroDivisionError: If b is zero.\n",
    "\n",
    "    Returns:\n",
    "        float: The result of the division.\n",
    "    \"\"\"\n",
    "    return a / b"
   ]
  },
  {
   "cell_type": "code",
   "execution_count": null,
   "id": "ce6c6c12-a5cf-4d2a-b22b-cea3fd5741da",
   "metadata": {},
   "outputs": [],
   "source": []
  }
 ],
 "metadata": {
  "kernelspec": {
   "display_name": "Python 3 (ipykernel)",
   "language": "python",
   "name": "python3"
  },
  "language_info": {
   "codemirror_mode": {
    "name": "ipython",
    "version": 3
   },
   "file_extension": ".py",
   "mimetype": "text/x-python",
   "name": "python",
   "nbconvert_exporter": "python",
   "pygments_lexer": "ipython3",
   "version": "3.10.8"
  }
 },
 "nbformat": 4,
 "nbformat_minor": 5
}
